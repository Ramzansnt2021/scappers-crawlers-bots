{
 "cells": [
  {
   "cell_type": "markdown",
   "id": "arbitrary-decimal",
   "metadata": {},
   "source": [
    "### Libraries\n"
   ]
  },
  {
   "cell_type": "code",
   "execution_count": 1,
   "id": "outstanding-agenda",
   "metadata": {},
   "outputs": [],
   "source": [
    "import requests, pandas as pd, os , csv"
   ]
  },
  {
   "cell_type": "markdown",
   "id": "scientific-adoption",
   "metadata": {},
   "source": [
    "### Request"
   ]
  },
  {
   "cell_type": "code",
   "execution_count": null,
   "id": "silent-latin",
   "metadata": {},
   "outputs": [],
   "source": [
    "results = []\n",
    "path = 'C://Users//SBT DAY//Documents//jupyter_notebook'\n",
    "for page_no in range(1,12):\n",
    "    \n",
    "    url = \"https://www.sunglasshut.com/wcs/resources/plp/10152/byCategoryId/3074457345626651837?isProductNeeded=true&orderBy=default&pageSize=18&responseFormat=json&isChanelCategory=false&currency=USD&jiun=1&pageView=image&viewTaskName=CategoryDisplayView&orderBy=default&DM_PersistentCookieCreated=true&beginIndex=0&categoryId=3074457345626651837&catalogId=20602&langId=-1&currentPage=1&storeId=10152&top=Y&orderBy=default&currentPage=\".format(page_no)\n",
    "\n",
    "    payload={}\n",
    "    headers = {\n",
    "      'Cookie': 'ak_bmsc=45D4317CA6A5584884E2330F7B2ED87B~000000000000000000000000000000~YAAQHp4QAhbCW62BAQAAKZiCyRAka4fjv89DHeA3haS1gX9We3LMg5zmSaPHSkbm36LNQJeignA+CUlEy8t6T9O8IsMBlp1TNaLCUinrqRMIicMeJnmPhpj8zFzDwVUU9+uaSscq95sepRFbfRQzaDzlmip34qxplYP0+FMmd588DIwpW2IhGR0Dpi54kl5VzwCrQ2XkQdO3CpO5cAdkv0YmUO0yp0GAbTsuzeG/nj8FsPC/glfVtrt7VNztwR9vQNi2S/ayyuyifnoETvNeFm2Os6txX8U6V3/TIhMFbuFm5SEdp70SFM0JTUux+M5fSBAQV4x/y+A0pe6tk2LcswAukLtC6QGicugyg5mgu+x9t+s4DQvUAQ66i/m12oWpyDtoy4RVHfL7Ez00bOV09/ssQA==; bm_sv=101026992ED9CDFA91CEB77ECCE17D71~YAAQHp4QAhfCW62BAQAAKZiCyRApaovOMsCZDrrmSKu4YFpCplUODxF93veAdPPLKbMrKrm54c53gP8298WVhsBE+lymUrgsdFy83jD49fYaLQ5kB3G+e8wBtowwlpV7FHrle+zjfa31/usBDSvt1KfXSRn5hn3S86tLc4l1CT6u2pmu9KPUnqPyayaYlC6HkWzFbNfiHX0iJu7jlyfu0GIpQx+8nGYirf33zPIVEo1VS55CampmDYQI+ElXJcQQ7ZVXi18=~1; aka-cc=PK; aka-ct=KARACHI; aka-zp='\n",
    "    }\n",
    "\n",
    "#     response = requests.request(\"GET\", url, headers=headers, data=payload)\n",
    "    r = requests.request(\"GET\", url, headers=headers, data=payload)\n",
    "    data = r.json()\n",
    "    for res in data['plpView']['products']['products']['product']:\n",
    "        results.append(res)\n",
    "\n",
    "# print(len(results))\n",
    "df = pd.json_normalize(results)\n",
    "final_result = df.to_csv(\"finalresult.csv\")\n",
    "if os.path.isfile( \"finalresults.csv\"):\n",
    "    for i in range(10):\n",
    "        with  open('finalresults.csv', 'a') as f1: \n",
    "            writer=csv.writer(f1, delimiter='\\t')\n",
    "            writer.writerow([i])\n",
    "        time.sleep(1)\n",
    "        print('done!! updated', final_result)\n",
    "    \n",
    "else:\n",
    "    print(\"Nothing change\", final_result)\n",
    "    \n",
    "\n",
    "\n",
    "    # print(r.json())\n",
    "\n",
    "# print(response.text)\n"
   ]
  },
  {
   "cell_type": "code",
   "execution_count": null,
   "id": "functioning-recognition",
   "metadata": {},
   "outputs": [],
   "source": []
  }
 ],
 "metadata": {
  "kernelspec": {
   "display_name": "Python 3 (ipykernel)",
   "language": "python",
   "name": "python3"
  },
  "language_info": {
   "codemirror_mode": {
    "name": "ipython",
    "version": 3
   },
   "file_extension": ".py",
   "mimetype": "text/x-python",
   "name": "python",
   "nbconvert_exporter": "python",
   "pygments_lexer": "ipython3",
   "version": "3.10.9"
  }
 },
 "nbformat": 4,
 "nbformat_minor": 5
}
